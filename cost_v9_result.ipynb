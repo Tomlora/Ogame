{
 "cells": [
  {
   "cell_type": "code",
   "execution_count": 1,
   "metadata": {},
   "outputs": [],
   "source": [
    "import pandas as pd\n",
    "import numpy as np\n",
    "\n",
    "import ipywidgets as widgets\n",
    "from ipywidgets import Layout"
   ]
  },
  {
   "cell_type": "code",
   "execution_count": 2,
   "metadata": {},
   "outputs": [],
   "source": [
    "data = pd.read_excel('data_cost.xlsx')"
   ]
  },
  {
   "cell_type": "code",
   "execution_count": 3,
   "metadata": {},
   "outputs": [],
   "source": [
    "from IPython.display import display\n",
    "def cost_cumul(race, dat, level_act, level_max):\n",
    "    \n",
    "    tri = data[data['Name FR'] == dat]\n",
    "    \n",
    "    level_list = []\n",
    "    metal = []\n",
    "    crystal = []\n",
    "    deut = []\n",
    "    energy = []\n",
    "        \n",
    "    for level in range(level_act, level_max+1):\n",
    "        level_list.append(level)\n",
    "        metal.append(tri[f'metal cost {level}'].values[0])\n",
    "        crystal.append(tri[f'crystal cost {level}'].values[0])\n",
    "        deut.append(tri[f'deut cost {level}'].values[0])\n",
    "        energy.append(tri[f'energy cost {level}'].values[0])\n",
    "        \n",
    "        \n",
    "    level_list.append('Cumul')    \n",
    "    metal.append(np.sum(metal))\n",
    "    crystal.append(np.sum(crystal))\n",
    "    deut.append(np.sum(deut))\n",
    "    energy.append(np.sum(energy))\n",
    "    \n",
    " \n",
    "\n",
    "    \n",
    "    df = pd.DataFrame([metal, crystal, deut, energy], columns=level_list, index=['Metal', 'Crystal', 'Deut', 'Energy'])\n",
    "    \n",
    "    display(df)"
   ]
  },
  {
   "cell_type": "code",
   "execution_count": 4,
   "metadata": {},
   "outputs": [
    {
     "data": {
      "application/vnd.jupyter.widget-view+json": {
       "model_id": "3441732bb2e44a1a9e5f246d7ea8ceef",
       "version_major": 2,
       "version_minor": 0
      },
      "text/plain": [
       "interactive(children=(Dropdown(description='Race : ', layout=Layout(display='flex'), options=('Human', 'Rock´t…"
      ]
     },
     "metadata": {},
     "output_type": "display_data"
    },
    {
     "data": {
      "text/plain": [
       "<function __main__.cost_cumul(race, dat, level_act, level_max)>"
      ]
     },
     "execution_count": 4,
     "metadata": {},
     "output_type": "execute_result"
    }
   ],
   "source": [
    "Race = widgets.Dropdown(\n",
    "        options = data['Lifeform'].unique(),\n",
    "        description='Race : ',\n",
    "        disabled=False,\n",
    "        layout = Layout(display='flex'))\n",
    "\n",
    "\n",
    "Name = widgets.Dropdown(\n",
    "        options = data['Name FR'].unique(),\n",
    "        value=data['Name FR'].unique()[0], #profil par défault\n",
    "        description='Name : ',\n",
    "        disabled=False,\n",
    "        layout = Layout(display='flex'))\n",
    "\n",
    "def update(*args):\n",
    "    Name.options = data[data['Lifeform'] == Race.value]['Name FR'].unique().tolist()\n",
    "    \n",
    "Race.observe(update)\n",
    "\n",
    "level1 = widgets.BoundedIntText(\n",
    "    value=1,\n",
    "    min=1,\n",
    "    max=50,\n",
    "    step=1,\n",
    "    description='Actuel : ',\n",
    "    disabled=False,\n",
    ")\n",
    "\n",
    "level2 = widgets.BoundedIntText(\n",
    "    value=10,\n",
    "    min=2,\n",
    "    max=50,\n",
    "    step=1,\n",
    "    description='Max : ',\n",
    "    disabled=False,\n",
    ")\n",
    "\n",
    "widgets.interact(cost_cumul, race=Race, dat=Name, level_act = level1, level_max= level2)"
   ]
  },
  {
   "cell_type": "code",
   "execution_count": 5,
   "metadata": {},
   "outputs": [],
   "source": [
    "# Gojou : usine cellules"
   ]
  }
 ],
 "metadata": {
  "kernelspec": {
   "display_name": "Python 3.10.4 64-bit",
   "language": "python",
   "name": "python3"
  },
  "language_info": {
   "codemirror_mode": {
    "name": "ipython",
    "version": 3
   },
   "file_extension": ".py",
   "mimetype": "text/x-python",
   "name": "python",
   "nbconvert_exporter": "python",
   "pygments_lexer": "ipython3",
   "version": "3.10.4"
  },
  "orig_nbformat": 4,
  "vscode": {
   "interpreter": {
    "hash": "06d3ad103a38a5e5980b0a2ddf222334b9b3630c94a7e75a8e45e8afe280f469"
   }
  }
 },
 "nbformat": 4,
 "nbformat_minor": 2
}
